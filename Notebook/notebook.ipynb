{
 "cells": [
  {
   "cell_type": "code",
   "execution_count": 1,
   "metadata": {},
   "outputs": [
    {
     "name": "stdout",
     "output_type": "stream",
     "text": [
      "\n",
      "\n",
      "True\n"
     ]
    }
   ],
   "source": [
    "class Person:\n",
    "    def __init__(self, name, age, is_student):\n",
    "        self.name = name\n",
    "        self.age = age\n",
    "        self.is_student = is_student\n",
    "\n",
    "\n",
    "name = input(\"Enter your name: \")\n",
    "age = input(\"Enter your age: \")\n",
    "is_student_input = input(\"Are you a student? (yes/no): \").strip().lower()\n",
    "if is_student_input == \"yes\":\n",
    "    is_student = True\n",
    "elif is_student_input == \"no\":\n",
    "    is_student = False\n",
    "\n",
    "p1 = Person(name, age, is_student)\n",
    "print(p1.name)\n",
    "print(p1.age)\n",
    "print(p1.is_student)\n"
   ]
  }
 ],
 "metadata": {
  "kernelspec": {
   "display_name": "ML",
   "language": "python",
   "name": "python3"
  },
  "language_info": {
   "codemirror_mode": {
    "name": "ipython",
    "version": 3
   },
   "file_extension": ".py",
   "mimetype": "text/x-python",
   "name": "python",
   "nbconvert_exporter": "python",
   "pygments_lexer": "ipython3",
   "version": "3.13.2"
  }
 },
 "nbformat": 4,
 "nbformat_minor": 2
}
