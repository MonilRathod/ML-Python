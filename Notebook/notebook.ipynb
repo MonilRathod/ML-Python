{
 "cells": [
  {
   "cell_type": "code",
   "execution_count": null,
   "metadata": {},
   "outputs": [],
   "source": [
    "# A simple Python demo program\n",
    "\n",
    "def greet(name):\n",
    "    \"\"\"Function to greet the user.\"\"\"\n",
    "    return f\"Hello, {name}!\"\n",
    "\n",
    "def add_numbers(a, b):\n",
    "    \"\"\"Function to add two numbers.\"\"\"\n",
    "    return a + b\n",
    "\n",
    "# Example usage\n",
    "if __name__ == \"__main__\":\n",
    "    # Greeting\n",
    "    user_name = \"Alice\"\n",
    "    print(greet(user_name))\n",
    "    \n",
    "    # Adding numbers\n",
    "    num1 = 5\n",
    "    num2 = 10\n",
    "    print(f\"The sum of {num1} and {num2} is {add_numbers(num1, num2)}.\")"
   ]
  }
 ],
 "metadata": {
  "kernelspec": {
   "display_name": "ML",
   "language": "python",
   "name": "python3"
  },
  "language_info": {
   "codemirror_mode": {
    "name": "ipython",
    "version": 3
   },
   "file_extension": ".py",
   "mimetype": "text/x-python",
   "name": "python",
   "nbconvert_exporter": "python",
   "pygments_lexer": "ipython3",
   "version": "3.13.2"
  }
 },
 "nbformat": 4,
 "nbformat_minor": 2
}
